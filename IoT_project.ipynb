{
  "cells": [
    {
      "cell_type": "code",
      "execution_count": 1,
      "metadata": {
        "colab": {
          "base_uri": "https://localhost:8080/"
        },
        "id": "K75cAM73abrQ",
        "outputId": "e2c3151f-b915-493b-f727-7f155c561d67"
      },
      "outputs": [
        {
          "name": "stdout",
          "output_type": "stream",
          "text": [
            "Collecting firebase_admin\n",
            "  Downloading https://files.pythonhosted.org/packages/8b/07/437c61ea8f597c22cfe9bd801484ab9e449d7c16f8ec50fcf8d18f421c74/firebase_admin-5.2.0-py3-none-any.whl (115kB)\n",
            "Collecting google-cloud-firestore>=2.1.0; platform_python_implementation != \"PyPy\" (from firebase_admin)\n",
            "  Downloading https://files.pythonhosted.org/packages/5d/89/65d01c3bd7f1fb03aa5f1cfa993ee4aa1fbd068ba1269164d2d3f146c430/google_cloud_firestore-2.3.4-py2.py3-none-any.whl (232kB)\n",
            "Collecting google-cloud-storage>=1.37.1 (from firebase_admin)\n",
            "  Downloading https://files.pythonhosted.org/packages/c6/53/3a32d9aa3b56c94ec0760c3dc4ac00aeedd6938d3b99385fefd0e47bebff/google_cloud_storage-1.43.0-py2.py3-none-any.whl (106kB)\n",
            "Collecting google-api-python-client>=1.7.8 (from firebase_admin)\n",
            "  Downloading https://files.pythonhosted.org/packages/66/e8/edabba76d451d2f82f817d72f0ccddb1cb8dc9dda84596a973dc2ef6f10b/google_api_python_client-2.33.0-py2.py3-none-any.whl (7.9MB)\n",
            "Collecting cachecontrol>=0.12.6 (from firebase_admin)\n",
            "  Downloading https://files.pythonhosted.org/packages/d3/39/b7cd9ef1be03ac33e71f76837a23d59842b016e5159cf5aff30c0b340907/CacheControl-0.12.10-py2.py3-none-any.whl\n",
            "Collecting google-api-core[grpc]<3.0.0dev,>=1.22.1; platform_python_implementation != \"PyPy\" (from firebase_admin)\n",
            "  Downloading https://files.pythonhosted.org/packages/15/8b/c637e871ddcf07d7ee42ab0973a50a157520f879e00392900e8b1f6fa43a/google_api_core-2.3.2-py2.py3-none-any.whl (109kB)\n",
            "Collecting packaging>=14.3 (from google-cloud-firestore>=2.1.0; platform_python_implementation != \"PyPy\"->firebase_admin)\n",
            "  Downloading https://files.pythonhosted.org/packages/05/8e/8de486cbd03baba4deef4142bd643a3e7bbe954a784dc1bb17142572d127/packaging-21.3-py3-none-any.whl (40kB)\n",
            "Collecting google-cloud-core<3.0.0dev,>=1.4.1 (from google-cloud-firestore>=2.1.0; platform_python_implementation != \"PyPy\"->firebase_admin)\n",
            "  Downloading https://files.pythonhosted.org/packages/9d/ea/b051b33ee2cdd1b367ffd5a983653f8887552cafb0df5fa82fc3fdc8b73d/google_cloud_core-2.2.1-py2.py3-none-any.whl\n",
            "Collecting proto-plus>=1.10.0 (from google-cloud-firestore>=2.1.0; platform_python_implementation != \"PyPy\"->firebase_admin)\n",
            "  Downloading https://files.pythonhosted.org/packages/07/7b/de05a560f979c4b63b8c09163f533e4313b058f652d40677afeb6394e235/proto_plus-1.19.8-py3-none-any.whl (45kB)\n",
            "Requirement already satisfied: protobuf; python_version >= \"3.6\" in c:\\users\\abdul rafey\\appdata\\local\\programs\\python\\python38\\lib\\site-packages (from google-cloud-storage>=1.37.1->firebase_admin) (3.18.1)\n",
            "Requirement already satisfied: requests<3.0.0dev,>=2.18.0 in c:\\users\\abdul rafey\\appdata\\local\\programs\\python\\python38\\lib\\site-packages (from google-cloud-storage>=1.37.1->firebase_admin) (2.26.0)\n",
            "Requirement already satisfied: six in c:\\users\\abdul rafey\\appdata\\local\\programs\\python\\python38\\lib\\site-packages (from google-cloud-storage>=1.37.1->firebase_admin) (1.15.0)\n",
            "Collecting google-resumable-media<3.0dev,>=1.3.0; python_version >= \"3.6\" (from google-cloud-storage>=1.37.1->firebase_admin)\n",
            "  Downloading https://files.pythonhosted.org/packages/41/03/4e62899993a5446ae07f70fac379282939fe33adec9fc793a125ea29274d/google_resumable_media-2.1.0-py2.py3-none-any.whl (75kB)\n",
            "Requirement already satisfied: google-auth<3.0dev,>=1.25.0; python_version >= \"3.6\" in c:\\users\\abdul rafey\\appdata\\local\\programs\\python\\python38\\lib\\site-packages (from google-cloud-storage>=1.37.1->firebase_admin) (1.35.0)\n",
            "Collecting google-auth-httplib2>=0.1.0 (from google-api-python-client>=1.7.8->firebase_admin)\n",
            "  Downloading https://files.pythonhosted.org/packages/ba/db/721e2f3f32339080153995d16e46edc3a7657251f167ddcb9327e632783b/google_auth_httplib2-0.1.0-py2.py3-none-any.whl\n",
            "Collecting uritemplate<5,>=3.0.0 (from google-api-python-client>=1.7.8->firebase_admin)\n",
            "  Downloading https://files.pythonhosted.org/packages/81/c0/7461b49cd25aeece13766f02ee576d1db528f1c37ce69aee300e075b485b/uritemplate-4.1.1-py2.py3-none-any.whl\n",
            "Collecting httplib2<1dev,>=0.15.0 (from google-api-python-client>=1.7.8->firebase_admin)\n",
            "  Downloading https://files.pythonhosted.org/packages/b3/20/511741a05f8a59dc98f5ad9962efdc4f7bc1126329234e18b13f0cb3ddc4/httplib2-0.20.2-py3-none-any.whl (96kB)\n",
            "Collecting msgpack>=0.5.2 (from cachecontrol>=0.12.6->firebase_admin)\n",
            "  Downloading https://files.pythonhosted.org/packages/06/c8/7b5469f598ae248530da4a952e7c4d47bdedf114f62a0d8b8ef522befa8d/msgpack-1.0.3-cp38-cp38-win_amd64.whl (69kB)\n",
            "Collecting googleapis-common-protos<2.0dev,>=1.52.0 (from google-api-core[grpc]<3.0.0dev,>=1.22.1; platform_python_implementation != \"PyPy\"->firebase_admin)\n",
            "  Downloading https://files.pythonhosted.org/packages/5d/d2/38c15431197c137358968b5d2e17184832a4447d3580b03617824af71020/googleapis_common_protos-1.54.0-py2.py3-none-any.whl (207kB)\n",
            "Requirement already satisfied: setuptools>=40.3.0 in c:\\users\\abdul rafey\\appdata\\local\\programs\\python\\python38\\lib\\site-packages (from google-api-core[grpc]<3.0.0dev,>=1.22.1; platform_python_implementation != \"PyPy\"->firebase_admin) (41.2.0)\n",
            "Requirement already satisfied: grpcio<2.0dev,>=1.33.2; extra == \"grpc\" in c:\\users\\abdul rafey\\appdata\\local\\programs\\python\\python38\\lib\\site-packages (from google-api-core[grpc]<3.0.0dev,>=1.22.1; platform_python_implementation != \"PyPy\"->firebase_admin) (1.41.0)\n",
            "Collecting grpcio-status<2.0dev,>=1.33.2; extra == \"grpc\" (from google-api-core[grpc]<3.0.0dev,>=1.22.1; platform_python_implementation != \"PyPy\"->firebase_admin)\n",
            "  Downloading https://files.pythonhosted.org/packages/a3/6b/4d49846da5b5a496658fde7c1315c2ed48b3d98f7460122a19f94af39248/grpcio_status-1.43.0-py3-none-any.whl\n",
            "Requirement already satisfied: pyparsing!=3.0.5,>=2.0.2 in c:\\users\\abdul rafey\\appdata\\local\\programs\\python\\python38\\lib\\site-packages (from packaging>=14.3->google-cloud-firestore>=2.1.0; platform_python_implementation != \"PyPy\"->firebase_admin) (2.4.7)\n",
            "Requirement already satisfied: urllib3<1.27,>=1.21.1 in c:\\users\\abdul rafey\\appdata\\local\\programs\\python\\python38\\lib\\site-packages (from requests<3.0.0dev,>=2.18.0->google-cloud-storage>=1.37.1->firebase_admin) (1.26.7)\n",
            "Requirement already satisfied: idna<4,>=2.5; python_version >= \"3\" in c:\\users\\abdul rafey\\appdata\\local\\programs\\python\\python38\\lib\\site-packages (from requests<3.0.0dev,>=2.18.0->google-cloud-storage>=1.37.1->firebase_admin) (3.2)\n",
            "Requirement already satisfied: certifi>=2017.4.17 in c:\\users\\abdul rafey\\appdata\\local\\programs\\python\\python38\\lib\\site-packages (from requests<3.0.0dev,>=2.18.0->google-cloud-storage>=1.37.1->firebase_admin) (2021.5.30)\n",
            "Requirement already satisfied: charset-normalizer~=2.0.0; python_version >= \"3\" in c:\\users\\abdul rafey\\appdata\\local\\programs\\python\\python38\\lib\\site-packages (from requests<3.0.0dev,>=2.18.0->google-cloud-storage>=1.37.1->firebase_admin) (2.0.6)\n",
            "Collecting google-crc32c<2.0dev,>=1.0 (from google-resumable-media<3.0dev,>=1.3.0; python_version >= \"3.6\"->google-cloud-storage>=1.37.1->firebase_admin)\n",
            "  Downloading https://files.pythonhosted.org/packages/0b/e5/995af2a718779cc8bc5e8171f55b3be7f32551eaa1e85f51972d88442702/google_crc32c-1.3.0-cp38-cp38-win_amd64.whl\n",
            "Requirement already satisfied: rsa<5,>=3.1.4; python_version >= \"3.6\" in c:\\users\\abdul rafey\\appdata\\local\\programs\\python\\python38\\lib\\site-packages (from google-auth<3.0dev,>=1.25.0; python_version >= \"3.6\"->google-cloud-storage>=1.37.1->firebase_admin) (4.7.2)\n",
            "Requirement already satisfied: pyasn1-modules>=0.2.1 in c:\\users\\abdul rafey\\appdata\\local\\programs\\python\\python38\\lib\\site-packages (from google-auth<3.0dev,>=1.25.0; python_version >= \"3.6\"->google-cloud-storage>=1.37.1->firebase_admin) (0.2.8)\n",
            "Requirement already satisfied: cachetools<5.0,>=2.0.0 in c:\\users\\abdul rafey\\appdata\\local\\programs\\python\\python38\\lib\\site-packages (from google-auth<3.0dev,>=1.25.0; python_version >= \"3.6\"->google-cloud-storage>=1.37.1->firebase_admin) (4.2.4)\n",
            "Requirement already satisfied: pyasn1>=0.1.3 in c:\\users\\abdul rafey\\appdata\\local\\programs\\python\\python38\\lib\\site-packages (from rsa<5,>=3.1.4; python_version >= \"3.6\"->google-auth<3.0dev,>=1.25.0; python_version >= \"3.6\"->google-cloud-storage>=1.37.1->firebase_admin) (0.4.8)\n",
            "Installing collected packages: packaging, googleapis-common-protos, grpcio-status, google-api-core, google-cloud-core, proto-plus, google-cloud-firestore, google-crc32c, google-resumable-media, google-cloud-storage, httplib2, google-auth-httplib2, uritemplate, google-api-python-client, msgpack, cachecontrol, firebase-admin\n",
            "Successfully installed cachecontrol-0.12.10 firebase-admin-5.2.0 google-api-core-2.3.2 google-api-python-client-2.33.0 google-auth-httplib2-0.1.0 google-cloud-core-2.2.1 google-cloud-firestore-2.3.4 google-cloud-storage-1.43.0 google-crc32c-1.3.0 google-resumable-media-2.1.0 googleapis-common-protos-1.54.0 grpcio-status-1.43.0 httplib2-0.20.2 msgpack-1.0.3 packaging-21.3 proto-plus-1.19.8 uritemplate-4.1.1\n"
          ]
        },
        {
          "name": "stderr",
          "output_type": "stream",
          "text": [
            "ERROR: grpcio-status 1.43.0 has requirement grpcio>=1.43.0, but you'll have grpcio 1.41.0 which is incompatible.\n",
            "ERROR: proto-plus 1.19.8 has requirement protobuf>=3.19.0, but you'll have protobuf 3.18.1 which is incompatible.\n",
            "WARNING: You are using pip version 19.2.3, however version 21.3.1 is available.\n",
            "You should consider upgrading via the 'python -m pip install --upgrade pip' command.\n"
          ]
        }
      ],
      "source": [
        "! pip install firebase_admin"
      ]
    },
    {
      "cell_type": "code",
      "execution_count": 26,
      "metadata": {
        "id": "agiUWhNF5xMf"
      },
      "outputs": [],
      "source": [
        "from datetime       import datetime, timedelta\n",
        "from firebase_admin import db, credentials, initialize_app\n",
        "\n",
        "import pandas               as pd\n",
        "import matplotlib.pyplot    as plt"
      ]
    },
    {
      "cell_type": "markdown",
      "metadata": {
        "id": "Y9APTWn551wb"
      },
      "source": [
        "## Retreiving Data from Firebase"
      ]
    },
    {
      "cell_type": "code",
      "execution_count": 8,
      "metadata": {
        "id": "ep7yhwaqcQsE"
      },
      "outputs": [
        {
          "ename": "ValueError",
          "evalue": "The default Firebase app already exists. This means you called initialize_app() more than once without providing an app name as the second argument. In most cases you only need to call initialize_app() once. But if you do want to initialize multiple apps, pass a second argument to initialize_app() to give each app a unique name.",
          "output_type": "error",
          "traceback": [
            "\u001b[1;31m---------------------------------------------------------------------------\u001b[0m",
            "\u001b[1;31mValueError\u001b[0m                                Traceback (most recent call last)",
            "\u001b[1;32mC:\\Users\\ABDULR~1\\AppData\\Local\\Temp/ipykernel_10296/2790399104.py\u001b[0m in \u001b[0;36m<module>\u001b[1;34m\u001b[0m\n\u001b[0;32m      2\u001b[0m \u001b[0mdatabase_url\u001b[0m \u001b[1;33m=\u001b[0m \u001b[1;34m\"https://iot-project-183-default-rtdb.firebaseio.com/\"\u001b[0m\u001b[1;33m\u001b[0m\u001b[1;33m\u001b[0m\u001b[0m\n\u001b[0;32m      3\u001b[0m \u001b[1;33m\u001b[0m\u001b[0m\n\u001b[1;32m----> 4\u001b[1;33m default_app = initialize_app(\n\u001b[0m\u001b[0;32m      5\u001b[0m     \u001b[0mcred_obj\u001b[0m\u001b[1;33m,\u001b[0m\u001b[1;33m\u001b[0m\u001b[1;33m\u001b[0m\u001b[0m\n\u001b[0;32m      6\u001b[0m     {'databaseURL': database_url})\n",
            "\u001b[1;32m~\\AppData\\Local\\Programs\\Python\\Python38\\lib\\site-packages\\firebase_admin\\__init__.py\u001b[0m in \u001b[0;36minitialize_app\u001b[1;34m(credential, options, name)\u001b[0m\n\u001b[0;32m     69\u001b[0m \u001b[1;33m\u001b[0m\u001b[0m\n\u001b[0;32m     70\u001b[0m     \u001b[1;32mif\u001b[0m \u001b[0mname\u001b[0m \u001b[1;33m==\u001b[0m \u001b[0m_DEFAULT_APP_NAME\u001b[0m\u001b[1;33m:\u001b[0m\u001b[1;33m\u001b[0m\u001b[1;33m\u001b[0m\u001b[0m\n\u001b[1;32m---> 71\u001b[1;33m         raise ValueError((\n\u001b[0m\u001b[0;32m     72\u001b[0m             \u001b[1;34m'The default Firebase app already exists. This means you called '\u001b[0m\u001b[1;33m\u001b[0m\u001b[1;33m\u001b[0m\u001b[0m\n\u001b[0;32m     73\u001b[0m             \u001b[1;34m'initialize_app() more than once without providing an app name as '\u001b[0m\u001b[1;33m\u001b[0m\u001b[1;33m\u001b[0m\u001b[0m\n",
            "\u001b[1;31mValueError\u001b[0m: The default Firebase app already exists. This means you called initialize_app() more than once without providing an app name as the second argument. In most cases you only need to call initialize_app() once. But if you do want to initialize multiple apps, pass a second argument to initialize_app() to give each app a unique name."
          ]
        }
      ],
      "source": [
        "cred_obj     = credentials.Certificate('key.json')\n",
        "database_url = \"https://iot-project-183-default-rtdb.firebaseio.com/\"\n",
        "\n",
        "default_app = initialize_app(\n",
        "    cred_obj, \n",
        "    {'databaseURL': database_url})\n"
      ]
    },
    {
      "cell_type": "code",
      "execution_count": null,
      "metadata": {
        "id": "r6h025XMcRcH"
      },
      "outputs": [],
      "source": [
        "data = db.reference(\"/data\").get()"
      ]
    },
    {
      "cell_type": "code",
      "execution_count": null,
      "metadata": {
        "id": "7c3OqPbXc-ko"
      },
      "outputs": [],
      "source": [
        "df = pd.DataFrame(data.values())"
      ]
    },
    {
      "cell_type": "code",
      "execution_count": 9,
      "metadata": {
        "colab": {
          "base_uri": "https://localhost:8080/",
          "height": 363
        },
        "id": "zE1gR9Gu4pUh",
        "outputId": "798c49fa-c75e-4b86-92c9-b4c327cf9883"
      },
      "outputs": [
        {
          "data": {
            "text/html": [
              "<div>\n",
              "<style scoped>\n",
              "    .dataframe tbody tr th:only-of-type {\n",
              "        vertical-align: middle;\n",
              "    }\n",
              "\n",
              "    .dataframe tbody tr th {\n",
              "        vertical-align: top;\n",
              "    }\n",
              "\n",
              "    .dataframe thead th {\n",
              "        text-align: right;\n",
              "    }\n",
              "</style>\n",
              "<table border=\"1\" class=\"dataframe\">\n",
              "  <thead>\n",
              "    <tr style=\"text-align: right;\">\n",
              "      <th></th>\n",
              "      <th>humidity</th>\n",
              "      <th>temp</th>\n",
              "      <th>timestamp</th>\n",
              "    </tr>\n",
              "  </thead>\n",
              "  <tbody>\n",
              "    <tr>\n",
              "      <th>0</th>\n",
              "      <td>37.000000</td>\n",
              "      <td>24.000000</td>\n",
              "      <td>1640939943436</td>\n",
              "    </tr>\n",
              "    <tr>\n",
              "      <th>1</th>\n",
              "      <td>47.000000</td>\n",
              "      <td>24.000000</td>\n",
              "      <td>1640940025968</td>\n",
              "    </tr>\n",
              "    <tr>\n",
              "      <th>2</th>\n",
              "      <td>36.000000</td>\n",
              "      <td>20.000000</td>\n",
              "      <td>1640940091389</td>\n",
              "    </tr>\n",
              "    <tr>\n",
              "      <th>3</th>\n",
              "      <td>19.000000</td>\n",
              "      <td>20.000000</td>\n",
              "      <td>1640940393790</td>\n",
              "    </tr>\n",
              "    <tr>\n",
              "      <th>4</th>\n",
              "      <td>21.000000</td>\n",
              "      <td>20.000000</td>\n",
              "      <td>1640940696551</td>\n",
              "    </tr>\n",
              "    <tr>\n",
              "      <th>5</th>\n",
              "      <td>33.000000</td>\n",
              "      <td>24.000000</td>\n",
              "      <td>1640940999145</td>\n",
              "    </tr>\n",
              "    <tr>\n",
              "      <th>6</th>\n",
              "      <td>34.000000</td>\n",
              "      <td>21.000000</td>\n",
              "      <td>1640941301761</td>\n",
              "    </tr>\n",
              "    <tr>\n",
              "      <th>7</th>\n",
              "      <td>-1.214748</td>\n",
              "      <td>-1.214748</td>\n",
              "      <td>1640941492484</td>\n",
              "    </tr>\n",
              "    <tr>\n",
              "      <th>8</th>\n",
              "      <td>-1.214748</td>\n",
              "      <td>-1.214748</td>\n",
              "      <td>1640941532915</td>\n",
              "    </tr>\n",
              "    <tr>\n",
              "      <th>9</th>\n",
              "      <td>-1.214748</td>\n",
              "      <td>-1.214748</td>\n",
              "      <td>1640941574671</td>\n",
              "    </tr>\n",
              "  </tbody>\n",
              "</table>\n",
              "</div>"
            ],
            "text/plain": [
              "    humidity       temp      timestamp\n",
              "0  37.000000  24.000000  1640939943436\n",
              "1  47.000000  24.000000  1640940025968\n",
              "2  36.000000  20.000000  1640940091389\n",
              "3  19.000000  20.000000  1640940393790\n",
              "4  21.000000  20.000000  1640940696551\n",
              "5  33.000000  24.000000  1640940999145\n",
              "6  34.000000  21.000000  1640941301761\n",
              "7  -1.214748  -1.214748  1640941492484\n",
              "8  -1.214748  -1.214748  1640941532915\n",
              "9  -1.214748  -1.214748  1640941574671"
            ]
          },
          "execution_count": 9,
          "metadata": {},
          "output_type": "execute_result"
        }
      ],
      "source": [
        "df.head(10)"
      ]
    },
    {
      "cell_type": "markdown",
      "metadata": {
        "id": "GRCNDOUh6kWx"
      },
      "source": [
        "## Changing Timestamps to DateTime objects"
      ]
    },
    {
      "cell_type": "code",
      "execution_count": 10,
      "metadata": {
        "id": "08NDaWgs4wI5"
      },
      "outputs": [],
      "source": [
        "def timestamp_to_datetime(timestamp):\n",
        "\n",
        "  return datetime.fromtimestamp(timestamp / 1000) + timedelta(hours=5)"
      ]
    },
    {
      "cell_type": "code",
      "execution_count": 11,
      "metadata": {
        "id": "2yk2qvBB4z_6"
      },
      "outputs": [],
      "source": [
        "df['timestamp'] = df['timestamp'].apply(timestamp_to_datetime)"
      ]
    },
    {
      "cell_type": "code",
      "execution_count": 12,
      "metadata": {
        "colab": {
          "base_uri": "https://localhost:8080/",
          "height": 363
        },
        "id": "4fy8_97_48Mr",
        "outputId": "e8d0701b-70b2-4585-9730-88f9bb797905"
      },
      "outputs": [
        {
          "data": {
            "text/html": [
              "<div>\n",
              "<style scoped>\n",
              "    .dataframe tbody tr th:only-of-type {\n",
              "        vertical-align: middle;\n",
              "    }\n",
              "\n",
              "    .dataframe tbody tr th {\n",
              "        vertical-align: top;\n",
              "    }\n",
              "\n",
              "    .dataframe thead th {\n",
              "        text-align: right;\n",
              "    }\n",
              "</style>\n",
              "<table border=\"1\" class=\"dataframe\">\n",
              "  <thead>\n",
              "    <tr style=\"text-align: right;\">\n",
              "      <th></th>\n",
              "      <th>humidity</th>\n",
              "      <th>temp</th>\n",
              "      <th>timestamp</th>\n",
              "    </tr>\n",
              "  </thead>\n",
              "  <tbody>\n",
              "    <tr>\n",
              "      <th>0</th>\n",
              "      <td>37.000000</td>\n",
              "      <td>24.000000</td>\n",
              "      <td>2021-12-31 18:39:03.436</td>\n",
              "    </tr>\n",
              "    <tr>\n",
              "      <th>1</th>\n",
              "      <td>47.000000</td>\n",
              "      <td>24.000000</td>\n",
              "      <td>2021-12-31 18:40:25.968</td>\n",
              "    </tr>\n",
              "    <tr>\n",
              "      <th>2</th>\n",
              "      <td>36.000000</td>\n",
              "      <td>20.000000</td>\n",
              "      <td>2021-12-31 18:41:31.389</td>\n",
              "    </tr>\n",
              "    <tr>\n",
              "      <th>3</th>\n",
              "      <td>19.000000</td>\n",
              "      <td>20.000000</td>\n",
              "      <td>2021-12-31 18:46:33.790</td>\n",
              "    </tr>\n",
              "    <tr>\n",
              "      <th>4</th>\n",
              "      <td>21.000000</td>\n",
              "      <td>20.000000</td>\n",
              "      <td>2021-12-31 18:51:36.551</td>\n",
              "    </tr>\n",
              "    <tr>\n",
              "      <th>5</th>\n",
              "      <td>33.000000</td>\n",
              "      <td>24.000000</td>\n",
              "      <td>2021-12-31 18:56:39.145</td>\n",
              "    </tr>\n",
              "    <tr>\n",
              "      <th>6</th>\n",
              "      <td>34.000000</td>\n",
              "      <td>21.000000</td>\n",
              "      <td>2021-12-31 19:01:41.761</td>\n",
              "    </tr>\n",
              "    <tr>\n",
              "      <th>7</th>\n",
              "      <td>-1.214748</td>\n",
              "      <td>-1.214748</td>\n",
              "      <td>2021-12-31 19:04:52.484</td>\n",
              "    </tr>\n",
              "    <tr>\n",
              "      <th>8</th>\n",
              "      <td>-1.214748</td>\n",
              "      <td>-1.214748</td>\n",
              "      <td>2021-12-31 19:05:32.915</td>\n",
              "    </tr>\n",
              "    <tr>\n",
              "      <th>9</th>\n",
              "      <td>-1.214748</td>\n",
              "      <td>-1.214748</td>\n",
              "      <td>2021-12-31 19:06:14.671</td>\n",
              "    </tr>\n",
              "  </tbody>\n",
              "</table>\n",
              "</div>"
            ],
            "text/plain": [
              "    humidity       temp               timestamp\n",
              "0  37.000000  24.000000 2021-12-31 18:39:03.436\n",
              "1  47.000000  24.000000 2021-12-31 18:40:25.968\n",
              "2  36.000000  20.000000 2021-12-31 18:41:31.389\n",
              "3  19.000000  20.000000 2021-12-31 18:46:33.790\n",
              "4  21.000000  20.000000 2021-12-31 18:51:36.551\n",
              "5  33.000000  24.000000 2021-12-31 18:56:39.145\n",
              "6  34.000000  21.000000 2021-12-31 19:01:41.761\n",
              "7  -1.214748  -1.214748 2021-12-31 19:04:52.484\n",
              "8  -1.214748  -1.214748 2021-12-31 19:05:32.915\n",
              "9  -1.214748  -1.214748 2021-12-31 19:06:14.671"
            ]
          },
          "execution_count": 12,
          "metadata": {},
          "output_type": "execute_result"
        }
      ],
      "source": [
        "df.head(10)"
      ]
    },
    {
      "cell_type": "markdown",
      "metadata": {
        "id": "-iVhWCXX7yTa"
      },
      "source": [
        "## Making Datetime the index of dataframe"
      ]
    },
    {
      "cell_type": "code",
      "execution_count": 13,
      "metadata": {
        "id": "2cIwDknK5cXk"
      },
      "outputs": [],
      "source": [
        "df.set_index('timestamp', inplace=True)"
      ]
    },
    {
      "cell_type": "code",
      "execution_count": 14,
      "metadata": {
        "colab": {
          "base_uri": "https://localhost:8080/",
          "height": 394
        },
        "id": "-c2Mfe5v5mge",
        "outputId": "ac7af610-de8d-42b1-a29c-e1331a8c8302"
      },
      "outputs": [
        {
          "data": {
            "text/html": [
              "<div>\n",
              "<style scoped>\n",
              "    .dataframe tbody tr th:only-of-type {\n",
              "        vertical-align: middle;\n",
              "    }\n",
              "\n",
              "    .dataframe tbody tr th {\n",
              "        vertical-align: top;\n",
              "    }\n",
              "\n",
              "    .dataframe thead th {\n",
              "        text-align: right;\n",
              "    }\n",
              "</style>\n",
              "<table border=\"1\" class=\"dataframe\">\n",
              "  <thead>\n",
              "    <tr style=\"text-align: right;\">\n",
              "      <th></th>\n",
              "      <th>humidity</th>\n",
              "      <th>temp</th>\n",
              "    </tr>\n",
              "    <tr>\n",
              "      <th>timestamp</th>\n",
              "      <th></th>\n",
              "      <th></th>\n",
              "    </tr>\n",
              "  </thead>\n",
              "  <tbody>\n",
              "    <tr>\n",
              "      <th>2021-12-31 18:39:03.436</th>\n",
              "      <td>37.000000</td>\n",
              "      <td>24.000000</td>\n",
              "    </tr>\n",
              "    <tr>\n",
              "      <th>2021-12-31 18:40:25.968</th>\n",
              "      <td>47.000000</td>\n",
              "      <td>24.000000</td>\n",
              "    </tr>\n",
              "    <tr>\n",
              "      <th>2021-12-31 18:41:31.389</th>\n",
              "      <td>36.000000</td>\n",
              "      <td>20.000000</td>\n",
              "    </tr>\n",
              "    <tr>\n",
              "      <th>2021-12-31 18:46:33.790</th>\n",
              "      <td>19.000000</td>\n",
              "      <td>20.000000</td>\n",
              "    </tr>\n",
              "    <tr>\n",
              "      <th>2021-12-31 18:51:36.551</th>\n",
              "      <td>21.000000</td>\n",
              "      <td>20.000000</td>\n",
              "    </tr>\n",
              "    <tr>\n",
              "      <th>2021-12-31 18:56:39.145</th>\n",
              "      <td>33.000000</td>\n",
              "      <td>24.000000</td>\n",
              "    </tr>\n",
              "    <tr>\n",
              "      <th>2021-12-31 19:01:41.761</th>\n",
              "      <td>34.000000</td>\n",
              "      <td>21.000000</td>\n",
              "    </tr>\n",
              "    <tr>\n",
              "      <th>2021-12-31 19:04:52.484</th>\n",
              "      <td>-1.214748</td>\n",
              "      <td>-1.214748</td>\n",
              "    </tr>\n",
              "    <tr>\n",
              "      <th>2021-12-31 19:05:32.915</th>\n",
              "      <td>-1.214748</td>\n",
              "      <td>-1.214748</td>\n",
              "    </tr>\n",
              "    <tr>\n",
              "      <th>2021-12-31 19:06:14.671</th>\n",
              "      <td>-1.214748</td>\n",
              "      <td>-1.214748</td>\n",
              "    </tr>\n",
              "  </tbody>\n",
              "</table>\n",
              "</div>"
            ],
            "text/plain": [
              "                          humidity       temp\n",
              "timestamp                                    \n",
              "2021-12-31 18:39:03.436  37.000000  24.000000\n",
              "2021-12-31 18:40:25.968  47.000000  24.000000\n",
              "2021-12-31 18:41:31.389  36.000000  20.000000\n",
              "2021-12-31 18:46:33.790  19.000000  20.000000\n",
              "2021-12-31 18:51:36.551  21.000000  20.000000\n",
              "2021-12-31 18:56:39.145  33.000000  24.000000\n",
              "2021-12-31 19:01:41.761  34.000000  21.000000\n",
              "2021-12-31 19:04:52.484  -1.214748  -1.214748\n",
              "2021-12-31 19:05:32.915  -1.214748  -1.214748\n",
              "2021-12-31 19:06:14.671  -1.214748  -1.214748"
            ]
          },
          "execution_count": 14,
          "metadata": {},
          "output_type": "execute_result"
        }
      ],
      "source": [
        "df.head(10)"
      ]
    },
    {
      "cell_type": "markdown",
      "metadata": {
        "id": "xaqENfzK-a67"
      },
      "source": [
        "## Resamapling data to a frequency of 5 minutes"
      ]
    },
    {
      "cell_type": "code",
      "execution_count": 15,
      "metadata": {
        "id": "hBT73PQ08w6Q"
      },
      "outputs": [],
      "source": [
        "resampled_df = pd.DataFrame()"
      ]
    },
    {
      "cell_type": "code",
      "execution_count": 21,
      "metadata": {
        "id": "Pg50zxVH5nNQ"
      },
      "outputs": [],
      "source": [
        "resampled_df['humidity']  = df['humidity'].resample('5Min').mean()\n",
        "resampled_df['temp']       = df['temp'].resample('5Min').mean()"
      ]
    },
    {
      "cell_type": "code",
      "execution_count": 22,
      "metadata": {
        "colab": {
          "base_uri": "https://localhost:8080/",
          "height": 551
        },
        "id": "NbnZkgwZ8CV8",
        "outputId": "2e9d09f3-11f1-4a1e-dcc5-aab71205639b"
      },
      "outputs": [
        {
          "data": {
            "text/html": [
              "<div>\n",
              "<style scoped>\n",
              "    .dataframe tbody tr th:only-of-type {\n",
              "        vertical-align: middle;\n",
              "    }\n",
              "\n",
              "    .dataframe tbody tr th {\n",
              "        vertical-align: top;\n",
              "    }\n",
              "\n",
              "    .dataframe thead th {\n",
              "        text-align: right;\n",
              "    }\n",
              "</style>\n",
              "<table border=\"1\" class=\"dataframe\">\n",
              "  <thead>\n",
              "    <tr style=\"text-align: right;\">\n",
              "      <th></th>\n",
              "      <th>humimdity</th>\n",
              "      <th>temp</th>\n",
              "      <th>humidity</th>\n",
              "    </tr>\n",
              "    <tr>\n",
              "      <th>timestamp</th>\n",
              "      <th></th>\n",
              "      <th></th>\n",
              "      <th></th>\n",
              "    </tr>\n",
              "  </thead>\n",
              "  <tbody>\n",
              "    <tr>\n",
              "      <th>2021-12-31 18:35:00</th>\n",
              "      <td>37.000000</td>\n",
              "      <td>24.000000</td>\n",
              "      <td>37.000000</td>\n",
              "    </tr>\n",
              "    <tr>\n",
              "      <th>2021-12-31 18:40:00</th>\n",
              "      <td>41.500000</td>\n",
              "      <td>22.000000</td>\n",
              "      <td>41.500000</td>\n",
              "    </tr>\n",
              "    <tr>\n",
              "      <th>2021-12-31 18:45:00</th>\n",
              "      <td>19.000000</td>\n",
              "      <td>20.000000</td>\n",
              "      <td>19.000000</td>\n",
              "    </tr>\n",
              "    <tr>\n",
              "      <th>2021-12-31 18:50:00</th>\n",
              "      <td>21.000000</td>\n",
              "      <td>20.000000</td>\n",
              "      <td>21.000000</td>\n",
              "    </tr>\n",
              "    <tr>\n",
              "      <th>2021-12-31 18:55:00</th>\n",
              "      <td>33.000000</td>\n",
              "      <td>24.000000</td>\n",
              "      <td>33.000000</td>\n",
              "    </tr>\n",
              "    <tr>\n",
              "      <th>2021-12-31 19:00:00</th>\n",
              "      <td>16.392626</td>\n",
              "      <td>9.892626</td>\n",
              "      <td>16.392626</td>\n",
              "    </tr>\n",
              "    <tr>\n",
              "      <th>2021-12-31 19:05:00</th>\n",
              "      <td>1.856834</td>\n",
              "      <td>11.856834</td>\n",
              "      <td>1.856834</td>\n",
              "    </tr>\n",
              "    <tr>\n",
              "      <th>2021-12-31 19:10:00</th>\n",
              "      <td>15.000000</td>\n",
              "      <td>29.000000</td>\n",
              "      <td>15.000000</td>\n",
              "    </tr>\n",
              "    <tr>\n",
              "      <th>2021-12-31 19:15:00</th>\n",
              "      <td>18.000000</td>\n",
              "      <td>22.000000</td>\n",
              "      <td>18.000000</td>\n",
              "    </tr>\n",
              "    <tr>\n",
              "      <th>2021-12-31 19:20:00</th>\n",
              "      <td>88.000000</td>\n",
              "      <td>22.000000</td>\n",
              "      <td>88.000000</td>\n",
              "    </tr>\n",
              "    <tr>\n",
              "      <th>2021-12-31 19:25:00</th>\n",
              "      <td>17.000000</td>\n",
              "      <td>21.000000</td>\n",
              "      <td>17.000000</td>\n",
              "    </tr>\n",
              "    <tr>\n",
              "      <th>2021-12-31 19:30:00</th>\n",
              "      <td>17.000000</td>\n",
              "      <td>21.000000</td>\n",
              "      <td>17.000000</td>\n",
              "    </tr>\n",
              "    <tr>\n",
              "      <th>2021-12-31 19:35:00</th>\n",
              "      <td>17.000000</td>\n",
              "      <td>21.000000</td>\n",
              "      <td>17.000000</td>\n",
              "    </tr>\n",
              "    <tr>\n",
              "      <th>2021-12-31 19:40:00</th>\n",
              "      <td>17.000000</td>\n",
              "      <td>21.000000</td>\n",
              "      <td>17.000000</td>\n",
              "    </tr>\n",
              "    <tr>\n",
              "      <th>2021-12-31 19:45:00</th>\n",
              "      <td>17.000000</td>\n",
              "      <td>21.000000</td>\n",
              "      <td>17.000000</td>\n",
              "    </tr>\n",
              "  </tbody>\n",
              "</table>\n",
              "</div>"
            ],
            "text/plain": [
              "                     humimdity       temp   humidity\n",
              "timestamp                                           \n",
              "2021-12-31 18:35:00  37.000000  24.000000  37.000000\n",
              "2021-12-31 18:40:00  41.500000  22.000000  41.500000\n",
              "2021-12-31 18:45:00  19.000000  20.000000  19.000000\n",
              "2021-12-31 18:50:00  21.000000  20.000000  21.000000\n",
              "2021-12-31 18:55:00  33.000000  24.000000  33.000000\n",
              "2021-12-31 19:00:00  16.392626   9.892626  16.392626\n",
              "2021-12-31 19:05:00   1.856834  11.856834   1.856834\n",
              "2021-12-31 19:10:00  15.000000  29.000000  15.000000\n",
              "2021-12-31 19:15:00  18.000000  22.000000  18.000000\n",
              "2021-12-31 19:20:00  88.000000  22.000000  88.000000\n",
              "2021-12-31 19:25:00  17.000000  21.000000  17.000000\n",
              "2021-12-31 19:30:00  17.000000  21.000000  17.000000\n",
              "2021-12-31 19:35:00  17.000000  21.000000  17.000000\n",
              "2021-12-31 19:40:00  17.000000  21.000000  17.000000\n",
              "2021-12-31 19:45:00  17.000000  21.000000  17.000000"
            ]
          },
          "execution_count": 22,
          "metadata": {},
          "output_type": "execute_result"
        }
      ],
      "source": [
        "resampled_df.head(15)"
      ]
    },
    {
      "cell_type": "markdown",
      "metadata": {
        "id": "SSAc8R85-gUx"
      },
      "source": [
        "## Checking for NaN values in data"
      ]
    },
    {
      "cell_type": "code",
      "execution_count": 23,
      "metadata": {
        "colab": {
          "base_uri": "https://localhost:8080/",
          "height": 300
        },
        "id": "65MW3WuE8s0C",
        "outputId": "1a251858-24ec-4abe-8bbd-580a39bffe66"
      },
      "outputs": [
        {
          "data": {
            "text/html": [
              "<div>\n",
              "<style scoped>\n",
              "    .dataframe tbody tr th:only-of-type {\n",
              "        vertical-align: middle;\n",
              "    }\n",
              "\n",
              "    .dataframe tbody tr th {\n",
              "        vertical-align: top;\n",
              "    }\n",
              "\n",
              "    .dataframe thead th {\n",
              "        text-align: right;\n",
              "    }\n",
              "</style>\n",
              "<table border=\"1\" class=\"dataframe\">\n",
              "  <thead>\n",
              "    <tr style=\"text-align: right;\">\n",
              "      <th></th>\n",
              "      <th>humimdity</th>\n",
              "      <th>temp</th>\n",
              "      <th>humidity</th>\n",
              "    </tr>\n",
              "    <tr>\n",
              "      <th>timestamp</th>\n",
              "      <th></th>\n",
              "      <th></th>\n",
              "      <th></th>\n",
              "    </tr>\n",
              "  </thead>\n",
              "  <tbody>\n",
              "    <tr>\n",
              "      <th>2022-01-01 01:55:00</th>\n",
              "      <td>NaN</td>\n",
              "      <td>NaN</td>\n",
              "      <td>NaN</td>\n",
              "    </tr>\n",
              "    <tr>\n",
              "      <th>2022-01-01 06:55:00</th>\n",
              "      <td>NaN</td>\n",
              "      <td>NaN</td>\n",
              "      <td>NaN</td>\n",
              "    </tr>\n",
              "    <tr>\n",
              "      <th>2022-01-01 07:00:00</th>\n",
              "      <td>NaN</td>\n",
              "      <td>NaN</td>\n",
              "      <td>NaN</td>\n",
              "    </tr>\n",
              "    <tr>\n",
              "      <th>2022-01-01 07:05:00</th>\n",
              "      <td>NaN</td>\n",
              "      <td>NaN</td>\n",
              "      <td>NaN</td>\n",
              "    </tr>\n",
              "    <tr>\n",
              "      <th>2022-01-01 07:10:00</th>\n",
              "      <td>NaN</td>\n",
              "      <td>NaN</td>\n",
              "      <td>NaN</td>\n",
              "    </tr>\n",
              "    <tr>\n",
              "      <th>2022-01-01 08:35:00</th>\n",
              "      <td>NaN</td>\n",
              "      <td>NaN</td>\n",
              "      <td>NaN</td>\n",
              "    </tr>\n",
              "    <tr>\n",
              "      <th>2022-01-01 16:00:00</th>\n",
              "      <td>NaN</td>\n",
              "      <td>NaN</td>\n",
              "      <td>NaN</td>\n",
              "    </tr>\n",
              "  </tbody>\n",
              "</table>\n",
              "</div>"
            ],
            "text/plain": [
              "                     humimdity  temp  humidity\n",
              "timestamp                                     \n",
              "2022-01-01 01:55:00        NaN   NaN       NaN\n",
              "2022-01-01 06:55:00        NaN   NaN       NaN\n",
              "2022-01-01 07:00:00        NaN   NaN       NaN\n",
              "2022-01-01 07:05:00        NaN   NaN       NaN\n",
              "2022-01-01 07:10:00        NaN   NaN       NaN\n",
              "2022-01-01 08:35:00        NaN   NaN       NaN\n",
              "2022-01-01 16:00:00        NaN   NaN       NaN"
            ]
          },
          "execution_count": 23,
          "metadata": {},
          "output_type": "execute_result"
        }
      ],
      "source": [
        "# resampled_df.dropna(inplace=True)\n",
        "resampled_df[resampled_df.isnull().any(axis=1)]"
      ]
    },
    {
      "cell_type": "markdown",
      "metadata": {},
      "source": [
        "## Plotting data"
      ]
    },
    {
      "cell_type": "code",
      "execution_count": 29,
      "metadata": {
        "colab": {
          "base_uri": "https://localhost:8080/",
          "height": 321
        },
        "id": "33Mb8Txl9CJd",
        "outputId": "ec80c115-286f-4d37-8b94-ce51855e783e"
      },
      "outputs": [
        {
          "data": {
            "text/plain": [
              "<AxesSubplot:xlabel='timestamp'>"
            ]
          },
          "execution_count": 29,
          "metadata": {},
          "output_type": "execute_result"
        },
        {
          "data": {
            "image/png": "[encoded data removed]",
            "text/plain": [
              "<Figure size 2160x720 with 1 Axes>"
            ]
          },
          "metadata": {
            "needs_background": "light"
          },
          "output_type": "display_data"
        }
      ],
      "source": [
        "plt.figure(figsize=(30, 10))\n",
        "resampled_df['humidity'].plot()"
      ]
    },
    {
      "cell_type": "code",
      "execution_count": 27,
      "metadata": {
        "id": "tfqG8VgI_2mG"
      },
      "outputs": [
        {
          "data": {
            "text/plain": [
              "<AxesSubplot:xlabel='timestamp'>"
            ]
          },
          "execution_count": 27,
          "metadata": {},
          "output_type": "execute_result"
        },
        {
          "data": {
            "image/png": "[encoded data removed]",
            "text/plain": [
              "<Figure size 2160x720 with 1 Axes>"
            ]
          },
          "metadata": {
            "needs_background": "light"
          },
          "output_type": "display_data"
        }
      ],
      "source": [
        "plt.figure(figsize=(30, 10))\n",
        "resampled_df['temp'].plot()"
      ]
    },
    {
      "cell_type": "code",
      "execution_count": null,
      "metadata": {},
      "outputs": [],
      "source": []
    }
  ],
  "metadata": {
    "colab": {
      "collapsed_sections": [],
      "name": "IoT_project.ipynb",
      "provenance": []
    },
    "kernelspec": {
      "display_name": "Python 3",
      "name": "python3"
    },
    "language_info": {
      "codemirror_mode": {
        "name": "ipython",
        "version": 3
      },
      "file_extension": ".py",
      "mimetype": "text/x-python",
      "name": "python",
      "nbconvert_exporter": "python",
      "pygments_lexer": "ipython3",
      "version": "3.8.3"
    }
  },
  "nbformat": 4,
  "nbformat_minor": 0
}
